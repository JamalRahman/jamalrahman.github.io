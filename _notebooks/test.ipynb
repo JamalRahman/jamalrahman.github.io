{
 "cells": [
  {
   "cell_type": "code",
   "execution_count": 1,
   "metadata": {},
   "outputs": [
    {
     "output_type": "stream",
     "name": "stdout",
     "text": [
      "hello\n"
     ]
    }
   ],
   "source": [
    "print('hello')"
   ]
  },
  {
   "cell_type": "code",
   "execution_count": null,
   "metadata": {},
   "outputs": [],
   "source": []
  }
 ],
 "metadata": {
  "kernelspec": {
   "name": "python3",
   "display_name": "Python 3.7.5 64-bit",
   "metadata": {
    "interpreter": {
     "hash": "220533c34a066d3e9a76f11714341f951184e4f063585afcc8e3d2c15cdf269c"
    }
   }
  }
 },
 "nbformat": 4,
 "nbformat_minor": 5
}